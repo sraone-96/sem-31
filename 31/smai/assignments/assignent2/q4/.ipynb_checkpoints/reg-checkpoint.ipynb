{
 "cells": [
  {
   "cell_type": "code",
   "execution_count": 6,
   "metadata": {
    "collapsed": true
   },
   "outputs": [],
   "source": [
    "%matplotlib inline"
   ]
  },
  {
   "cell_type": "code",
   "execution_count": 4,
   "metadata": {
    "collapsed": true
   },
   "outputs": [],
   "source": [
    "from numpy import genfromtxt\n",
    "import numpy as np\n",
    "from random import randint\n",
    "import PIL.Image\n",
    "from cStringIO import StringIO\n",
    "import IPython.display"
   ]
  },
  {
   "cell_type": "code",
   "execution_count": 5,
   "metadata": {
    "collapsed": true
   },
   "outputs": [],
   "source": [
    "X_train = genfromtxt('notMNIST_train_data.csv', delimiter=',')\n",
    "y_train = genfromtxt('notMNIST_train_labels.csv', delimiter=',')\n",
    "X_test = genfromtxt('notMNIST_test_data.csv', delimiter=',')\n",
    "y_test = genfromtxt('notMNIST_test_labels.csv', delimiter=',')"
   ]
  },
  {
   "cell_type": "code",
   "execution_count": 6,
   "metadata": {
    "collapsed": true
   },
   "outputs": [],
   "source": [
    "def showarray(a, fmt='png'):\n",
    "    a = np.uint8(a)\n",
    "    f = StringIO()\n",
    "    PIL.Image.fromarray(a).save(f, fmt)\n",
    "    IPython.display.display(IPython.display.Image(data=f.getvalue()))"
   ]
  },
  {
   "cell_type": "code",
   "execution_count": 13,
   "metadata": {},
   "outputs": [
    {
     "name": "stdout",
     "output_type": "stream",
     "text": [
      "1.0\n"
     ]
    },
    {
     "data": {
      "image/png": "[encoded data removed]",
      "text/plain": [
       "<IPython.core.display.Image object>"
      ]
     },
     "metadata": {},
     "output_type": "display_data"
    }
   ],
   "source": [
    "n = randint(1, 1000)\n",
    "label = y_test[n]\n",
    "im = X_test[n, :].reshape((28, 28))\n",
    "print(label)\n",
    "showarray(im)"
   ]
  },
  {
   "cell_type": "code",
   "execution_count": 75,
   "metadata": {},
   "outputs": [
    {
     "name": "stdout",
     "output_type": "stream",
     "text": [
      "0.939501779359\n",
      "0.943060498221\n"
     ]
    }
   ],
   "source": [
    "#w=np.zeros(28*28)\n",
    "#print np.shape(w)\n",
    "\n",
    "from sklearn import datasets\n",
    "from sklearn import metrics\n",
    "from sklearn.linear_model import LogisticRegression\n",
    "model = LogisticRegression(penalty='l1',dual=False)\n",
    "model.fit(X_train,y_train)\n",
    "predicted1 = model.predict_log_proba(X_test)\n",
    "model= LogisticRegression(penalty='l2', C=1.1,dual=True)\n",
    "model.fit(X_train,y_train)\n",
    "predicted2 = model.predict_log_proba(X_test)\n",
    "\n",
    "p1=np.zeros(len(predicted))\n",
    "p2=np.zeros(len(predicted))\n",
    "\n",
    "for i in range(len(predicted1)):\n",
    "        index=np.where(predicted1[i] == predicted1[i].max())\n",
    "        asp= index[0]\n",
    "        p1[i]=asp\n",
    "for i in range(len(predicted2)):\n",
    "        index=np.where(predicted2[i] == predicted2[i].max())\n",
    "        asp= index[0]\n",
    "        p2[i]=asp\n",
    "#print p2-p1\n",
    "#print p1\n",
    "#p=np.asarray(p)\n",
    "a1=metrics.accuracy_score(y_test, p1)                 \n",
    "a2=metrics.accuracy_score(y_test, p2)\n",
    "print a1\n",
    "print a2\n",
    "#print(metrics.classification_report(y_test, predicted))\n",
    "#print(metrics.confusion_matrix(y_test, predicted))\n"
   ]
  }
 ],
 "metadata": {
  "kernelspec": {
   "display_name": "Python 2",
   "language": "python",
   "name": "python2"
  },
  "language_info": {
   "codemirror_mode": {
    "name": "ipython",
    "version": 2
   },
   "file_extension": ".py",
   "mimetype": "text/x-python",
   "name": "python",
   "nbconvert_exporter": "python",
   "pygments_lexer": "ipython2",
   "version": "2.7.13"
  }
 },
 "nbformat": 4,
 "nbformat_minor": 2
}
